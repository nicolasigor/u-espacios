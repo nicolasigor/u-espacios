{
 "cells": [
  {
   "cell_type": "code",
   "execution_count": 20,
   "metadata": {},
   "outputs": [
    {
     "name": "stdout",
     "output_type": "stream",
     "text": [
      "Parte a) forma lineal\n",
      "El valor de Vo es 4.37753\n",
      "El valor de tau es 1.15808\n",
      "El valor de R es 11580.81670\n",
      "El valor de R2 es  0.9610251308770078\n",
      "La suma de x es 27.5000\n",
      "La suma de y es -7.5048\n",
      "La suma de xy es -42.5082\n",
      "La suma de xx es 96.2500\n",
      "El promedio de y es -0.6823\n"
     ]
    }
   ],
   "source": [
    "#P1\n",
    "print('Parte a) forma lineal')\n",
    "\n",
    "#Vc = Vo(1 - e^-t/tau)\n",
    "# Forma 1) \n",
    "# ln(Vo-Vc) = -t/tau + lnVo\n",
    "\n",
    "import numpy as np\n",
    "\n",
    "t = np.linspace(0,5,11)\n",
    "Vc = np.array([0.08, 2.06, 3.17, 3.98, 4.39, 4.59, 4.78, 4.90, 5.00, 5.04, 4.98])\n",
    "x = t\n",
    "y = np.log(5.1-Vc)\n",
    "\n",
    "a = (np.dot(x,y)/np.sum(x) - np.mean(y))/(np.dot(x,x)/np.sum(x) - np.mean(x))\n",
    "b = np.mean(y) - a*np.mean(x)\n",
    "print('El valor de Vo es %.5f'%np.exp(b))\n",
    "print('El valor de tau es %.5f'%-np.divide(1,a))\n",
    "print('El valor de R es %.5f'%(-np.divide(1,a)/(100e-6)))\n",
    "\n",
    "\n",
    "R2 = 1 - np.dot(a*x + b - y,a*x + b - y)/ np.dot(y - np.mean(y),y - np.mean(y))\n",
    "\n",
    "print('El valor de R2 es ',R2)\n",
    "\n",
    "print('La suma de x es %.4f'%np.sum(x))\n",
    "print('La suma de y es %.4f'%np.sum(y))\n",
    "print('La suma de xy es %.4f'%np.dot(x,y))\n",
    "print('La suma de xx es %.4f'%np.dot(x,x))\n",
    "print('El promedio de y es %.4f'%np.mean(y))"
   ]
  },
  {
   "cell_type": "code",
   "execution_count": 19,
   "metadata": {},
   "outputs": [
    {
     "name": "stdout",
     "output_type": "stream",
     "text": [
      "Parte a) forma afin \n",
      "El valor de Vo es 0.85834\n",
      "El valor de tau es 1.15808\n",
      "El valor de R2 es  0.961025130877008\n",
      "La suma de x es 27.5000\n",
      "La suma de y es -25.4265\n",
      "La suma de xy es -87.3124\n",
      "La suma de xx es 96.2500\n",
      "El promedio de y es -2.3115\n"
     ]
    }
   ],
   "source": [
    "#P1\n",
    "print('Parte a) forma afin ')\n",
    "\n",
    "# Forma 2) \n",
    "# ln(1 - Vc/Vo) = -t/tau\n",
    "\n",
    "import numpy as np\n",
    "\n",
    "t = np.linspace(0,5,11)\n",
    "Vc = np.array([0.08, 2.06, 3.17, 3.98, 4.39, 4.59, 4.78, 4.90, 5.00, 5.04, 4.98])\n",
    "x = t\n",
    "y = np.log(1 - Vc/5.1)\n",
    "\n",
    "a = (np.dot(x,y)/np.sum(x) - np.mean(y))/(np.dot(x,x)/np.sum(x) - np.mean(x))\n",
    "b = np.mean(y) - a*np.mean(x)\n",
    "print('El valor de Vo es %.5f'%np.exp(b))\n",
    "print('El valor de tau es %.5f'%-np.divide(1,a))\n",
    "\n",
    "R2 = 1 - np.dot(a*x + b - y,a*x + b - y)/ np.dot(y - np.mean(y),y - np.mean(y))\n",
    "\n",
    "print('El valor de R2 es ',R2)\n",
    "\n",
    "print('La suma de x es %.4f'%np.sum(x))\n",
    "print('La suma de y es %.4f'%np.sum(y))\n",
    "print('La suma de xy es %.4f'%np.dot(x,y))\n",
    "print('La suma de xx es %.4f'%np.dot(x,x))\n",
    "print('El promedio de y es %.4f'%np.mean(y))"
   ]
  },
  {
   "cell_type": "code",
   "execution_count": 26,
   "metadata": {},
   "outputs": [
    {
     "name": "stdout",
     "output_type": "stream",
     "text": [
      "Parte a) forma lineal\n",
      "El valor de Vo es 1.89881\n",
      "El valor de tau es 1.15808\n",
      "El valor de R es 26665.81589\n",
      "El valor de R2 es  0.9610251308770078\n",
      "La suma de x es 27.5000\n",
      "La suma de y es -3.2593\n",
      "La suma de xy es -18.4611\n",
      "La suma de xx es 96.2500\n",
      "El promedio de y es -0.2963\n"
     ]
    },
    {
     "data": {
      "text/plain": [
       "0.6412293315977322"
      ]
     },
     "execution_count": 26,
     "metadata": {},
     "output_type": "execute_result"
    }
   ],
   "source": [
    "#P1\n",
    "print('Parte a) forma lineal')\n",
    "\n",
    "#Vc = Vo(1 - e^-t/tau)\n",
    "# Forma 1) \n",
    "# log(Vo-Vc) = -t/tau * log10(e) + logVo\n",
    "\n",
    "import numpy as np\n",
    "\n",
    "t = np.linspace(0,5,11)\n",
    "Vc = np.array([0.08, 2.06, 3.17, 3.98, 4.39, 4.59, 4.78, 4.90, 5.00, 5.04, 4.98])\n",
    "x = t\n",
    "y = np.log10(5.1-Vc)\n",
    "\n",
    "a = (np.dot(x,y)/np.sum(x) - np.mean(y))/(np.dot(x,x)/np.sum(x) - np.mean(x))\n",
    "b = np.mean(y) - a*np.mean(x)\n",
    "print('El valor de Vo es %.5f'%np.exp(b))\n",
    "print('El valor de tau es %.5f'%-np.divide(np.log10(np.exp(1)),a))\n",
    "print('El valor de R es %.5f'%(-np.divide(1,a)/(100e-6)))\n",
    "\n",
    "\n",
    "R2 = 1 - np.dot(a*x + b - y,a*x + b - y)/ np.dot(y - np.mean(y),y - np.mean(y))\n",
    "\n",
    "print('El valor de R2 es ',R2)\n",
    "\n",
    "print('La suma de x es %.4f'%np.sum(x))\n",
    "print('La suma de y es %.4f'%np.sum(y))\n",
    "print('La suma de xy es %.4f'%np.dot(x,y))\n",
    "print('La suma de xx es %.4f'%np.dot(x,x))\n",
    "print('El promedio de y es %.4f'%np.mean(y))\n",
    "a\n",
    "b"
   ]
  }
 ],
 "metadata": {
  "kernelspec": {
   "display_name": "Python 3",
   "language": "python",
   "name": "python3"
  },
  "language_info": {
   "codemirror_mode": {
    "name": "ipython",
    "version": 3
   },
   "file_extension": ".py",
   "mimetype": "text/x-python",
   "name": "python",
   "nbconvert_exporter": "python",
   "pygments_lexer": "ipython3",
   "version": "3.5.5"
  }
 },
 "nbformat": 4,
 "nbformat_minor": 2
}
